{
  "nbformat": 4,
  "nbformat_minor": 0,
  "metadata": {
    "colab": {
      "provenance": []
    },
    "kernelspec": {
      "name": "python3",
      "display_name": "Python 3"
    },
    "language_info": {
      "name": "python"
    }
  },
  "cells": [
    {
      "cell_type": "code",
      "execution_count": 46,
      "metadata": {
        "id": "JH-pVrB5ZClI"
      },
      "outputs": [],
      "source": [
        "import numpy as np\n",
        "\n",
        "\n",
        "class Transaction():\n",
        "  \n",
        "  def __init__(self):\n",
        "    nama = input('Masukan nama anda : ')\n",
        "    self.data_item = dict() # nama sebagai index\n",
        "    self.id = nama[0].upper() + '-' + str(np.random.randint(1,10000))\n",
        "\n",
        "  def tambah_item(self, nama, jumlah, harga): # fungsi untuk menambah item belanjaan\n",
        "    self.data_item[nama.lower()] = [jumlah, harga]\n",
        "\n",
        "  def update_nama(self, namaLama, namaBaru): # fungsi untuk memperbarui nama item\n",
        "    self.data_item[namaBaru.lower()] = self.data_item[namaLama.lower()]\n",
        "    del self.data_item[namaLama.lower()]\n",
        "\n",
        "  def update_jumlah(self, nama, jumlahBaru): # fungsi untuk memperbarui jumlah item\n",
        "    self.data_item[nama][0] = jumlahBaru\n",
        "\n",
        "  def update_harga(self, nama, hargaBaru): # fungsi untuk memperbarui harga item\n",
        "    self.data_item[nama][1] = hargaBaru\n",
        "\n",
        "  def check_data_item(self): # fungsi untuk mengecek data item\n",
        "    return self.data_item\n",
        "\n",
        "  def reset_belanjaan(self): # fungsi untuk menghapus seluruh belanjaan\n",
        "    self.data_item.clear()\n",
        "    print('semua item berhasil didelete')\n",
        "\n",
        "  def delete_item(self, nama): # fungsi untuk menghapus item belanjaan\n",
        "    self.data_item.pop(nama.lower())\n",
        "\n",
        "  def check_order(self): # fungsi untuk mengecek input belanjaan customer\n",
        "    for i in list(self.data_item.keys()):\n",
        "      if type(self.data_item[i][0]) != int:\n",
        "        print(f'terdapat kesalahan input data pada item {i}')\n",
        "        print(self.data_item[i])\n",
        "        break\n",
        "      elif type(self.data_item[i][1]) != int:\n",
        "        print(f'terdapat kesalahan input data pada item {i}')\n",
        "        print(self.data_item[i])\n",
        "        break\n",
        "      else:\n",
        "        print(f'pesanan pada item {i} sudah benar')\n",
        "        print(self.data_item[i])\n",
        "\n",
        "  def discount_checkout(self): # fungsi untuk mengecek total harga keseluruhan dan diskon belanjaan customer\n",
        "    total_harga = 0\n",
        "    for i in list(self.data_item.keys()):\n",
        "      total_harga += (int(self.data_item[i][0])*int(self.data_item[i][1]) )\n",
        "      \n",
        "    if total_harga > 500_000:\n",
        "      final_harga = total_harga * (1 - 0.1)\n",
        "      print(f'Selamat! Anda mendapat diskon sebesar 10%.')\n",
        "      print(f'Item yang anda beli adalah : {self.data_item}')\n",
        "      print(f'Total belanja dengan id transaksi {self.id} sebelum diskon adalah Rp. {total_harga:.0f} dan setelah diskon adalah Rp. {final_harga:.0f}')\n",
        "    elif total_harga > 300_000:\n",
        "      final_harga = total_harga * (1 - 0.08)\n",
        "      print('Selamat! Anda mendapat diskon sebesar 8%.')\n",
        "      print(f'Item yang anda beli adalah : {self.data_item}')\n",
        "      print(f'Total belanja dengan id transaksi {self.id} sebelum diskon adalah Rp. {total_harga:.0f} dan setelah diskon adalah Rp. {final_harga:.0f}')\n",
        "    elif total_harga > 200_000:\n",
        "      final_harga = total_harga * (1 - 0.05)\n",
        "      print('Selamat! Anda mendapat diskon sebesar 5%.')\n",
        "      print(f'Item yang anda beli adalah : {self.data_item}')\n",
        "      print(f'Total belanja dengan id transaksi {self.id} sebelum diskon adalah Rp. {total_harga:.0f} dan setelah diskon adalah Rp. {final_harga:.0f}')\n",
        "    else:\n",
        "      final_harga = total_harga\n",
        "      print('Maaf anda beum mendapatkan diskon')\n",
        "      print(f'Item yang anda beli adalah : {self.data_item}')\n",
        "      print(f'Total belanja dengan id transaksi {self.id} adalah Rp. {self.total_harga:.0f}')"
      ]
    },
    {
      "cell_type": "code",
      "source": [
        "t1 = Transaction()"
      ],
      "metadata": {
        "colab": {
          "base_uri": "https://localhost:8080/"
        },
        "id": "kEo3uWIyZRpW",
        "outputId": "c8688e69-0d10-4377-aa1f-352c90c1bb48"
      },
      "execution_count": 47,
      "outputs": [
        {
          "name": "stdout",
          "output_type": "stream",
          "text": [
            "Masukan nama anda : Synthia\n"
          ]
        }
      ]
    },
    {
      "cell_type": "markdown",
      "source": [
        "# test case 1"
      ],
      "metadata": {
        "id": "MVar3PZ6aLvY"
      }
    },
    {
      "cell_type": "code",
      "source": [
        "t1.tambah_item('ayam goreng', 2, 20000)\n",
        "t1.tambah_item('pasta gigi', 3, 15000)"
      ],
      "metadata": {
        "id": "hqEfAbq8Zfqc"
      },
      "execution_count": 48,
      "outputs": []
    },
    {
      "cell_type": "code",
      "source": [
        "t1.check_data_item()"
      ],
      "metadata": {
        "colab": {
          "base_uri": "https://localhost:8080/"
        },
        "id": "BDWOHOWvZ0Ok",
        "outputId": "f2f31f40-07fa-40e2-a160-792c54d1aec7"
      },
      "execution_count": 49,
      "outputs": [
        {
          "output_type": "execute_result",
          "data": {
            "text/plain": [
              "{'ayam goreng': [2, 20000], 'pasta gigi': [3, 15000]}"
            ]
          },
          "metadata": {},
          "execution_count": 49
        }
      ]
    },
    {
      "cell_type": "markdown",
      "source": [
        "# test case 2"
      ],
      "metadata": {
        "id": "rkE1nrNCaWDj"
      }
    },
    {
      "cell_type": "code",
      "source": [
        "t1.delete_item('pasta gigi')"
      ],
      "metadata": {
        "id": "W6ByDQ5uZ_vM"
      },
      "execution_count": 50,
      "outputs": []
    },
    {
      "cell_type": "code",
      "source": [
        "t1.check_data_item()"
      ],
      "metadata": {
        "colab": {
          "base_uri": "https://localhost:8080/"
        },
        "id": "gJdl55RVakqS",
        "outputId": "898487fd-1fda-4b63-c5e9-4b4fafd74020"
      },
      "execution_count": 51,
      "outputs": [
        {
          "output_type": "execute_result",
          "data": {
            "text/plain": [
              "{'ayam goreng': [2, 20000]}"
            ]
          },
          "metadata": {},
          "execution_count": 51
        }
      ]
    },
    {
      "cell_type": "markdown",
      "source": [
        "# test case 3"
      ],
      "metadata": {
        "id": "hNfMktJOazog"
      }
    },
    {
      "cell_type": "code",
      "source": [
        "t1.reset_belanjaan()"
      ],
      "metadata": {
        "colab": {
          "base_uri": "https://localhost:8080/"
        },
        "id": "438Ltzl9a3o2",
        "outputId": "90f08b0b-411b-48e6-b1a4-74c9e5634286"
      },
      "execution_count": 52,
      "outputs": [
        {
          "output_type": "stream",
          "name": "stdout",
          "text": [
            "semua item berhasil didelete\n"
          ]
        }
      ]
    },
    {
      "cell_type": "code",
      "source": [
        "t1.check_data_item()"
      ],
      "metadata": {
        "colab": {
          "base_uri": "https://localhost:8080/"
        },
        "id": "4GlS7RSkbSfe",
        "outputId": "4123ad10-4070-41b2-ead9-18f86e0a0c65"
      },
      "execution_count": 53,
      "outputs": [
        {
          "output_type": "execute_result",
          "data": {
            "text/plain": [
              "{}"
            ]
          },
          "metadata": {},
          "execution_count": 53
        }
      ]
    },
    {
      "cell_type": "markdown",
      "source": [
        "# test case 4"
      ],
      "metadata": {
        "id": "bCOhNpdIcLQ2"
      }
    },
    {
      "cell_type": "code",
      "source": [
        "t2 = Transaction()"
      ],
      "metadata": {
        "colab": {
          "base_uri": "https://localhost:8080/"
        },
        "id": "Wf4OR3sLcNuf",
        "outputId": "91241772-de64-468c-8d5e-9ec5078e8aeb"
      },
      "execution_count": 54,
      "outputs": [
        {
          "name": "stdout",
          "output_type": "stream",
          "text": [
            "Masukan nama anda : Synthia\n"
          ]
        }
      ]
    },
    {
      "cell_type": "code",
      "source": [
        "t2.tambah_item('ayam goreng', 2, 20000)\n",
        "t2.tambah_item('pasta gigi', 3, 15000)\n",
        "t2.tambah_item('mainan mobil', 1, 200000)\n",
        "t2.tambah_item('mi instant', 5, 3000)"
      ],
      "metadata": {
        "id": "MGYw_o23cWtN"
      },
      "execution_count": 55,
      "outputs": []
    },
    {
      "cell_type": "code",
      "source": [
        "t2.check_data_item()"
      ],
      "metadata": {
        "colab": {
          "base_uri": "https://localhost:8080/"
        },
        "id": "zo47jkpyc6Vs",
        "outputId": "6bff33f4-1aa4-4544-d659-a72962b92e30"
      },
      "execution_count": 56,
      "outputs": [
        {
          "output_type": "execute_result",
          "data": {
            "text/plain": [
              "{'ayam goreng': [2, 20000],\n",
              " 'pasta gigi': [3, 15000],\n",
              " 'mainan mobil': [1, 200000],\n",
              " 'mi instant': [5, 3000]}"
            ]
          },
          "metadata": {},
          "execution_count": 56
        }
      ]
    },
    {
      "cell_type": "code",
      "source": [
        "t2.discount_checkout()"
      ],
      "metadata": {
        "colab": {
          "base_uri": "https://localhost:8080/"
        },
        "id": "f8lOu8gJdl9r",
        "outputId": "cf98646e-9d00-40f3-8117-c8bd60985882"
      },
      "execution_count": 57,
      "outputs": [
        {
          "output_type": "stream",
          "name": "stdout",
          "text": [
            "Selamat! Anda mendapat diskon sebesar 5%.\n",
            "Item yang anda beli adalah : {'ayam goreng': [2, 20000], 'pasta gigi': [3, 15000], 'mainan mobil': [1, 200000], 'mi instant': [5, 3000]}\n",
            "Total belanja dengan id transaksi S-1201 sebelum diskon adalah Rp. 300000 dan setelah diskon adalah Rp. 285000\n"
          ]
        }
      ]
    }
  ]
}